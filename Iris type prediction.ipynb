{
 "cells": [
  {
   "cell_type": "code",
   "execution_count": 1,
   "metadata": {},
   "outputs": [],
   "source": [
    "import pandas as pd\n",
    "import numpy as np\n",
    "from scipy.special import expit as sigmoid\n",
    "from scipy import linalg\n",
    "import matplotlib.pyplot as plt"
   ]
  },
  {
   "cell_type": "code",
   "execution_count": 2,
   "metadata": {},
   "outputs": [],
   "source": [
    "def getdata():\n",
    "    global X, Y\n",
    "    data = pd.read_csv(\"irisdata.csv\")\n",
    "    X = data[[\"sepal length\", \"sepal width\", \"petal length\", \"petal width\"]].to_numpy()\n",
    "    X = np.append(np.ones((150,1)), X, axis=1)\n",
    "    Y = np.zeros((150,3))\n",
    "    for i in range(150):\n",
    "        if data[\"type\"][i] == \"Iris-setosa\":\n",
    "            Y[i][0] = 1\n",
    "        if data[\"type\"][i] == \"Iris-versicolor\":\n",
    "            Y[i][1] = 1\n",
    "        if data[\"type\"][i] == \"Iris-virginica\":\n",
    "            Y[i][2] = 1"
   ]
  },
  {
   "cell_type": "code",
   "execution_count": 3,
   "metadata": {},
   "outputs": [],
   "source": [
    "def createsets():\n",
    "    global X, Y, Xtrain, Ytrain, Xcv, Ycv, Xtest, Ytest\n",
    "    randperm = np.random.permutation(range(150))\n",
    "    X = X[randperm, :]\n",
    "    Y = Y[randperm, :]\n",
    "    Xtrain = X[0:100, :]\n",
    "    Ytrain = Y[0:100, :]\n",
    "    Xcv = X[100:125, :]\n",
    "    Ycv = Y[100:125, :]\n",
    "    Xtest = X[125:150, :]\n",
    "    Ytest = Y[125:150, :]"
   ]
  },
  {
   "cell_type": "code",
   "execution_count": 30,
   "metadata": {},
   "outputs": [],
   "source": [
    "def cost(X, y, theta, Lambda):\n",
    "    return -1/150 * (y.T@np.log(sigmoid(X@theta)) + (1-y).T@np.log(1-sigmoid(X@theta))) + Lambda/(2*150)*np.sum(np.square(theta[1:]))"
   ]
  },
  {
   "cell_type": "code",
   "execution_count": 5,
   "metadata": {},
   "outputs": [],
   "source": [
    "def gradient(X, y, Theta, Lambda):\n",
    "    grad_noreg = 1/150 * X.T@(sigmoid(X@Theta)-y)\n",
    "    reg = np.copy(Theta)\n",
    "    reg[0] = 0\n",
    "    return grad_noreg + Lambda/150 * reg"
   ]
  },
  {
   "cell_type": "code",
   "execution_count": 6,
   "metadata": {},
   "outputs": [],
   "source": [
    "def gradient_descent(X, y, Lambda, Alpha, num_iters):\n",
    "    global cost_history\n",
    "    Theta = np.zeros((5,1))\n",
    "    for _ in range(num_iters):\n",
    "        cost_history.append(cost(X,y,Theta,Lambda))\n",
    "        Theta = Theta - Alpha*gradient(X, y, Theta, Lambda)\n",
    "    return Theta"
   ]
  },
  {
   "cell_type": "code",
   "execution_count": 7,
   "metadata": {},
   "outputs": [],
   "source": [
    "def predict(X, Theta):\n",
    "    return sigmoid(X@Theta)"
   ]
  },
  {
   "cell_type": "code",
   "execution_count": 8,
   "metadata": {},
   "outputs": [],
   "source": [
    "def train(X, Y, Lambda, Alpha, num_iters):\n",
    "    global Theta\n",
    "    Theta = np.empty((5,3))\n",
    "    for i in range(3):\n",
    "        y = Y[:, i].reshape(100,1)\n",
    "        Theta[:, i] = gradient_descent(X, y, Lambda, Alpha, num_iters).reshape(5,)"
   ]
  },
  {
   "cell_type": "code",
   "execution_count": 9,
   "metadata": {},
   "outputs": [],
   "source": [
    "def calculate_output():\n",
    "    global X, Theta, output\n",
    "    output = np.empty((150,3))\n",
    "    for i in range(3):\n",
    "        output[:, i] = predict(X, Theta[:, i]).reshape(150,)\n",
    "    for i in range(150):\n",
    "        for j in range(3):\n",
    "            output[i,j] = int(output[i,j]==np.amax(output[i,:]))"
   ]
  },
  {
   "cell_type": "code",
   "execution_count": 10,
   "metadata": {},
   "outputs": [],
   "source": [
    "def evaluate():\n",
    "    global Y, output\n",
    "    train_mistakes = 0\n",
    "    cv_mistakes = 0\n",
    "    test_mistakes = 0\n",
    "    for i in range(150):\n",
    "        if (output[i, :] != Y[i, :]).any():\n",
    "            if i in range(100):\n",
    "                train_mistakes += 1\n",
    "            if i in range(100, 125):\n",
    "                cv_mistakes += 1\n",
    "            if i in range(125, 150):\n",
    "                test_mistakes += 1\n",
    "    train_accuracy = 1-train_mistakes/100\n",
    "    cv_accuracy = 1-cv_mistakes/25\n",
    "    test_accuracy = 1-test_mistakes/25\n",
    "    print(\"Training set accuracy: \", train_accuracy)\n",
    "    print(\"Cross-validation set accuracy: \", cv_accuracy)\n",
    "    print(\"Test set accuracy: \", test_accuracy)"
   ]
  },
  {
   "cell_type": "code",
   "execution_count": 51,
   "metadata": {},
   "outputs": [
    {
     "name": "stdout",
     "output_type": "stream",
     "text": [
      "Training set accuracy:  0.99\n",
      "Cross-validation set accuracy:  0.88\n",
      "Test set accuracy:  0.92\n"
     ]
    }
   ],
   "source": [
    "getdata()\n",
    "createsets()\n",
    "cost_history = []\n",
    "Lambda = 0\n",
    "Alpha = 0.1\n",
    "num_iters = 1000\n",
    "train(Xtrain, Ytrain, Lambda, Alpha, num_iters)\n",
    "calculate_output()\n",
    "evaluate()"
   ]
  },
  {
   "cell_type": "code",
   "execution_count": 52,
   "metadata": {},
   "outputs": [
    {
     "data": {
      "text/plain": [
       "[<matplotlib.lines.Line2D at 0x1e0e9757c88>]"
      ]
     },
     "execution_count": 52,
     "metadata": {},
     "output_type": "execute_result"
    },
    {
     "data": {
      "image/png": "[encoded data removed]",
      "text/plain": [
       "<Figure size 432x288 with 1 Axes>"
      ]
     },
     "metadata": {
      "needs_background": "light"
     },
     "output_type": "display_data"
    }
   ],
   "source": [
    "cost_history = np.asarray(cost_history).reshape(3*num_iters,)\n",
    "plt.plot(cost_history)"
   ]
  },
  {
   "cell_type": "code",
   "execution_count": null,
   "metadata": {},
   "outputs": [],
   "source": []
  }
 ],
 "metadata": {
  "kernelspec": {
   "display_name": "Python 3",
   "language": "python",
   "name": "python3"
  },
  "language_info": {
   "codemirror_mode": {
    "name": "ipython",
    "version": 3
   },
   "file_extension": ".py",
   "mimetype": "text/x-python",
   "name": "python",
   "nbconvert_exporter": "python",
   "pygments_lexer": "ipython3",
   "version": "3.7.4"
  }
 },
 "nbformat": 4,
 "nbformat_minor": 2
}
