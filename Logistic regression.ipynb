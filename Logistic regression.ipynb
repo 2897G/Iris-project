{
 "cells": [
  {
   "cell_type": "markdown",
   "metadata": {},
   "source": [
    "# One-vs-all logistic regression classifier"
   ]
  },
  {
   "cell_type": "markdown",
   "metadata": {},
   "source": [
    "Importing packages."
   ]
  },
  {
   "cell_type": "code",
   "execution_count": 1,
   "metadata": {},
   "outputs": [],
   "source": [
    "import pandas as pd\n",
    "import numpy as np\n",
    "from scipy.special import expit as sigmoid\n",
    "from scipy import linalg\n",
    "import matplotlib.pyplot as plt"
   ]
  },
  {
   "cell_type": "markdown",
   "metadata": {},
   "source": [
    "Getting data from irisdata.csv."
   ]
  },
  {
   "cell_type": "code",
   "execution_count": 2,
   "metadata": {},
   "outputs": [],
   "source": [
    "def getdata():\n",
    "    global X, Y\n",
    "    data = pd.read_csv(\"irisdata.csv\")\n",
    "    X = data[[\"sepal length\", \"sepal width\", \"petal length\", \"petal width\"]].to_numpy()\n",
    "    X = np.append(np.ones((150,1)), X, axis=1)\n",
    "    Y = np.zeros((150,3))\n",
    "    for i in range(150):\n",
    "        if data[\"type\"][i] == \"Iris-setosa\":\n",
    "            Y[i][0] = 1\n",
    "        if data[\"type\"][i] == \"Iris-versicolor\":\n",
    "            Y[i][1] = 1\n",
    "        if data[\"type\"][i] == \"Iris-virginica\":\n",
    "            Y[i][2] = 1"
   ]
  },
  {
   "cell_type": "markdown",
   "metadata": {},
   "source": [
    "Creating the training set, cross-validation set and test set. Randomly shuffles the data to get iris types distributed (on average) evenly in the 3 sample sets. This introduces randomness in the output, i.e. I will get different learned parameters and accuracies when running the algorithm multiple times. This randomness can be substantial due to the small sample size."
   ]
  },
  {
   "cell_type": "code",
   "execution_count": 3,
   "metadata": {},
   "outputs": [],
   "source": [
    "def createsets():\n",
    "    global X, Y, Xtrain, Ytrain, Xcv, Ycv, Xtest, Ytest\n",
    "    randperm = np.random.permutation(range(150))\n",
    "    X = X[randperm, :]\n",
    "    Y = Y[randperm, :]\n",
    "    Xtrain = X[0:100, :]\n",
    "    Ytrain = Y[0:100, :]\n",
    "    Xcv = X[100:125, :]\n",
    "    Ycv = Y[100:125, :]\n",
    "    Xtest = X[125:150, :]\n",
    "    Ytest = Y[125:150, :]"
   ]
  },
  {
   "cell_type": "markdown",
   "metadata": {},
   "source": [
    "Calculating the cost associated with the current hypothesis. Used for debugging, finding hyperparameters Alpha and num_iters manually."
   ]
  },
  {
   "cell_type": "code",
   "execution_count": 4,
   "metadata": {},
   "outputs": [],
   "source": [
    "def cost(X, y, theta, Lambda):\n",
    "    return -1/X.shape[0] * (y.T@np.log(sigmoid(X@theta)) + (1-y).T@np.log(1-sigmoid(X@theta))) + Lambda/(2*150)*np.sum(np.square(theta[1:]))"
   ]
  },
  {
   "cell_type": "markdown",
   "metadata": {},
   "source": [
    "Calculating the gradient of the cost function at the current parameter vector Theta."
   ]
  },
  {
   "cell_type": "code",
   "execution_count": 5,
   "metadata": {},
   "outputs": [],
   "source": [
    "def gradient(X, y, Theta, Lambda):\n",
    "    grad_noreg = 1/150 * X.T@(sigmoid(X@Theta)-y)\n",
    "    reg = np.copy(Theta)\n",
    "    reg[0] = 0\n",
    "    return grad_noreg + Lambda/150 * reg"
   ]
  },
  {
   "cell_type": "markdown",
   "metadata": {},
   "source": [
    "Implementing batch gradient descent. Runs fast enough (small dataset, few features), so no need for advanced optimisation libraries or stochastic gradient descent. The last parameter calculate_cost is a bool indicating whether we want to save the values of the cost function (for fitting Alpha, num_iters) as the gradient descent iterates."
   ]
  },
  {
   "cell_type": "code",
   "execution_count": 6,
   "metadata": {},
   "outputs": [],
   "source": [
    "def gradient_descent(X, y, Lambda, Alpha, num_iters, calculate_cost):\n",
    "    global cost_history\n",
    "    Theta = np.zeros((5,1))\n",
    "    for _ in range(num_iters):\n",
    "        if calculate_cost:\n",
    "            cost_history.extend(cost(X,y,Theta,Lambda))\n",
    "        Theta = Theta - Alpha*gradient(X, y, Theta, Lambda)\n",
    "    return Theta"
   ]
  },
  {
   "cell_type": "markdown",
   "metadata": {},
   "source": [
    "Produce the predicted probabilities of being each type of iris."
   ]
  },
  {
   "cell_type": "code",
   "execution_count": 7,
   "metadata": {},
   "outputs": [],
   "source": [
    "def predict(X, Theta):\n",
    "    return sigmoid(X@Theta)"
   ]
  },
  {
   "cell_type": "markdown",
   "metadata": {},
   "source": [
    "Training the classifier. Concatenates the learned parameter vectors for each group into a global variable Theta (the learned parameter matrix). The last parameter fitted_lambda (bool) indicates whether the regularisation parameter Lambda had been fitted when we train the classifier."
   ]
  },
  {
   "cell_type": "code",
   "execution_count": 8,
   "metadata": {},
   "outputs": [],
   "source": [
    "def train(X, Y, Lambda, Alpha, num_iters, fitted_lambda):\n",
    "    global Theta\n",
    "    m = Y.shape[0]\n",
    "    Theta = np.empty((5,3))\n",
    "    for i in range(3):\n",
    "        y = Y[:, i].reshape(m,1)\n",
    "        Theta[:, i] = gradient_descent(X, y, Lambda, Alpha, num_iters, fitted_lambda).reshape(5,)"
   ]
  },
  {
   "cell_type": "markdown",
   "metadata": {},
   "source": [
    "Transform the probability predictions into a binary output matrix."
   ]
  },
  {
   "cell_type": "code",
   "execution_count": 9,
   "metadata": {},
   "outputs": [],
   "source": [
    "def calculate_output():\n",
    "    global X, Theta, output\n",
    "    output = np.empty((150,3))\n",
    "    for i in range(3):\n",
    "        output[:, i] = predict(X, Theta[:, i]).reshape(150,)\n",
    "    for i in range(150):\n",
    "        for j in range(3):\n",
    "            output[i,j] = int(output[i,j]==np.amax(output[i,:]))"
   ]
  },
  {
   "cell_type": "markdown",
   "metadata": {},
   "source": [
    "Obtain prediction accuracies for the 3 sample sets. The last parameter fitted_lambda (bool) indicates whether the regularisation parameter Lambda had been fitted when running evaluation (so that we can use the same function for outputting performance metrics and fitting Lambda)."
   ]
  },
  {
   "cell_type": "code",
   "execution_count": 10,
   "metadata": {},
   "outputs": [],
   "source": [
    "def evaluate(fitted_lambda):\n",
    "    global Y, output\n",
    "    train_mistakes = 0\n",
    "    cv_mistakes = 0\n",
    "    test_mistakes = 0\n",
    "    for i in range(150):\n",
    "        if (output[i, :] != Y[i, :]).any():\n",
    "            if i in range(100):\n",
    "                train_mistakes += 1\n",
    "            if i in range(100, 125):\n",
    "                cv_mistakes += 1\n",
    "            if i in range(125, 150):\n",
    "                test_mistakes += 1\n",
    "    train_accuracy = 1-train_mistakes/100\n",
    "    cv_accuracy = 1-cv_mistakes/25\n",
    "    test_accuracy = 1-test_mistakes/25\n",
    "    if fitted_lambda:\n",
    "        print(\"Training set accuracy: \", train_accuracy)\n",
    "        print(\"Cross-validation set accuracy: \", cv_accuracy)\n",
    "        print(\"Test set accuracy: \", test_accuracy)\n",
    "    else:\n",
    "        return cv_accuracy"
   ]
  },
  {
   "cell_type": "markdown",
   "metadata": {},
   "source": [
    "Finding the best regularisation hyperparameter Lambda that gives the highest accuracy in the cross-validation set. We could fit the other hyperparameters Alpha and num_iters here but I decided to do that manually by observing the cost as a function of the number of iterations of gradient descent."
   ]
  },
  {
   "cell_type": "code",
   "execution_count": 11,
   "metadata": {},
   "outputs": [],
   "source": [
    "def fit_lambda():\n",
    "    global Xtrain, Ytrain, Xcv, Ycv, Alpha, num_iters\n",
    "    best_Lambda = -1\n",
    "    best_cv_accuracy = 0\n",
    "    for Lambda in [0, 0.01, 0.03, 0.1, 0.3, 1, 3]:\n",
    "        train(Xtrain, Ytrain, Lambda, Alpha, num_iters, False)\n",
    "        calculate_output()\n",
    "        cv_accuracy = evaluate(False)\n",
    "        if cv_accuracy > best_cv_accuracy:\n",
    "            best_cv_accuracy = cv_accuracy\n",
    "            best_Lambda = Lambda\n",
    "    return best_Lambda"
   ]
  },
  {
   "cell_type": "markdown",
   "metadata": {},
   "source": [
    "Running the learning algorithm. Setting hyperparameters Alhpa and num_iters manually (based on the diagnostics below)."
   ]
  },
  {
   "cell_type": "code",
   "execution_count": 12,
   "metadata": {},
   "outputs": [
    {
     "name": "stdout",
     "output_type": "stream",
     "text": [
      "Training set accuracy:  0.94\n",
      "Cross-validation set accuracy:  1.0\n",
      "Test set accuracy:  1.0\n"
     ]
    }
   ],
   "source": [
    "getdata()\n",
    "createsets()\n",
    "Alpha = 0.1\n",
    "num_iters = 2000\n",
    "Lambda = fit_lambda()\n",
    "cost_history = []\n",
    "train(Xtrain, Ytrain, Lambda, Alpha, num_iters, True)\n",
    "calculate_output()\n",
    "evaluate(True)"
   ]
  },
  {
   "cell_type": "markdown",
   "metadata": {},
   "source": [
    "Plotting the (resample of) cost as function of gradient descent iterations and the learning curve as diagnostic tools."
   ]
  },
  {
   "cell_type": "code",
   "execution_count": 13,
   "metadata": {},
   "outputs": [
    {
     "data": {
      "text/plain": [
       "[<matplotlib.lines.Line2D at 0x23e733a1288>]"
      ]
     },
     "execution_count": 13,
     "metadata": {},
     "output_type": "execute_result"
    },
    {
     "data": {
      "image/png": "[encoded data removed]",
      "text/plain": [
       "<Figure size 432x288 with 1 Axes>"
      ]
     },
     "metadata": {
      "needs_background": "light"
     },
     "output_type": "display_data"
    }
   ],
   "source": [
    "plt.plot(cost_history[0::20])"
   ]
  },
  {
   "cell_type": "markdown",
   "metadata": {},
   "source": [
    "Drawing the learning curve."
   ]
  },
  {
   "cell_type": "code",
   "execution_count": 14,
   "metadata": {},
   "outputs": [],
   "source": [
    "train_costs = []\n",
    "cv_costs = []\n",
    "for i in range(1,100):\n",
    "    X_current = Xtrain[0:i, :]\n",
    "    Y_current = Ytrain[0:i, :]\n",
    "    train(X_current, Y_current, Lambda, Alpha, num_iters, False)\n",
    "    train_cost = 0\n",
    "    cv_cost = 0\n",
    "    for j in range(3):\n",
    "        y_current = Y_current[:,j].reshape(i,1)\n",
    "        ycv_current = Ycv[:,j].reshape(25,1)\n",
    "        theta = Theta[:,j].reshape(5,1)\n",
    "        train_cost += cost(X_current, y_current, theta, Lambda)\n",
    "        cv_cost += cost(Xcv, ycv_current, theta, Lambda)\n",
    "    train_costs.extend(train_cost)\n",
    "    cv_costs.extend(cv_cost)"
   ]
  },
  {
   "cell_type": "code",
   "execution_count": 15,
   "metadata": {},
   "outputs": [
    {
     "data": {
      "image/png": "[encoded data removed]",
      "text/plain": [
       "<Figure size 432x288 with 1 Axes>"
      ]
     },
     "metadata": {
      "needs_background": "light"
     },
     "output_type": "display_data"
    }
   ],
   "source": [
    "plt.plot(range(1,100), train_costs, label=\"training\")\n",
    "plt.plot(range(1,100), cv_costs, label=\"cross-validation\")\n",
    "plt.legend()\n",
    "plt.show()"
   ]
  }
 ],
 "metadata": {
  "kernelspec": {
   "display_name": "Python 3",
   "language": "python",
   "name": "python3"
  },
  "language_info": {
   "codemirror_mode": {
    "name": "ipython",
    "version": 3
   },
   "file_extension": ".py",
   "mimetype": "text/x-python",
   "name": "python",
   "nbconvert_exporter": "python",
   "pygments_lexer": "ipython3",
   "version": "3.7.4"
  }
 },
 "nbformat": 4,
 "nbformat_minor": 2
}
