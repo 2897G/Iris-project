{
  "nbformat": 4,
  "nbformat_minor": 0,
  "metadata": {
    "colab": {
      "name": "Iris - neural network.ipynb",
      "provenance": [],
      "collapsed_sections": []
    },
    "kernelspec": {
      "name": "python3",
      "display_name": "Python 3"
    }
  },
  "cells": [
    {
      "cell_type": "markdown",
      "metadata": {
        "id": "uzcw-XJJIylM",
        "colab_type": "text"
      },
      "source": [
        "# Neural network"
      ]
    },
    {
      "cell_type": "markdown",
      "metadata": {
        "id": "3pwZ8W2YJeui",
        "colab_type": "text"
      },
      "source": [
        "Importing packages."
      ]
    },
    {
      "cell_type": "code",
      "metadata": {
        "id": "WC_TvGtKDsSj",
        "colab_type": "code",
        "colab": {}
      },
      "source": [
        "import pandas as pd\n",
        "import numpy as np\n",
        "import math\n",
        "from scipy.special import expit as sigmoid\n",
        "from scipy import linalg\n",
        "import matplotlib.pyplot as plt"
      ],
      "execution_count": 0,
      "outputs": []
    },
    {
      "cell_type": "markdown",
      "metadata": {
        "id": "tqEnQLrwJh85",
        "colab_type": "text"
      },
      "source": [
        "Getting data from irisdata.csv."
      ]
    },
    {
      "cell_type": "code",
      "metadata": {
        "id": "E8sYlxEKD0Xp",
        "colab_type": "code",
        "colab": {}
      },
      "source": [
        "def getdata():\n",
        "  global X, Y, m, n, K\n",
        "  K = 3\n",
        "  data = pd.read_csv(\"irisdata.csv\")\n",
        "  X = data[[\"sepal length\", \"sepal width\", \"petal length\", \"petal width\"]].to_numpy()\n",
        "  m = X.shape[0]\n",
        "  X = np.append(np.ones((m,1)), X, axis=1)\n",
        "  Y = np.zeros((m,K))\n",
        "  for i in range(m):\n",
        "    if data[\"type\"][i] == \"Iris-setosa\":\n",
        "      Y[i][0] = 1\n",
        "    if data[\"type\"][i] == \"Iris-versicolor\":\n",
        "      Y[i][1] = 1\n",
        "    if data[\"type\"][i] == \"Iris-virginica\":\n",
        "      Y[i][2] = 1\n",
        "  n = X.shape[1]"
      ],
      "execution_count": 0,
      "outputs": []
    },
    {
      "cell_type": "markdown",
      "metadata": {
        "id": "oXCTY6goJouM",
        "colab_type": "text"
      },
      "source": [
        "Creating the training set, cross-validation set and test set. Randomly shuffles the data to get iris types distributed (on average) evenly in the 3 sample sets. This introduces randomness in the output, i.e. I will get different learned parameters and accuracies when running the algorithm multiple times. This randomness can be substantial due to the small sample size."
      ]
    },
    {
      "cell_type": "code",
      "metadata": {
        "id": "Y2IWw4wFEEch",
        "colab_type": "code",
        "colab": {}
      },
      "source": [
        "def createsets():\n",
        "    global X, Y, Xtrain, Ytrain, Xcv, Ycv, Xtest, Ytest, m, n, K, mtrain, mcv, mtest\n",
        "    randperm = np.random.permutation(range(m))\n",
        "    X = X[randperm, :]\n",
        "    Y = Y[randperm, :]\n",
        "    [mtrain, mcv] = [math.floor(2/3*m), math.floor(m/6)]\n",
        "    mtest = m-mtrain-mcv\n",
        "    Xtrain = X[0:mtrain, :]\n",
        "    Ytrain = Y[0:mtrain, :]\n",
        "    Xcv = X[mtrain:mtrain+mcv, :]\n",
        "    Ycv = Y[mtrain:mtrain+mcv, :]\n",
        "    Xtest = X[mtrain+mcv:m, :]\n",
        "    Ytest = Y[mtrain+mcv:m, :]"
      ],
      "execution_count": 0,
      "outputs": []
    },
    {
      "cell_type": "markdown",
      "metadata": {
        "id": "4XaGyqsAJ1MK",
        "colab_type": "text"
      },
      "source": [
        "Random initialisation of parameters for symmetry breaking."
      ]
    },
    {
      "cell_type": "code",
      "metadata": {
        "id": "ORv5mOZqEGlg",
        "colab_type": "code",
        "colab": {}
      },
      "source": [
        "def thetainit():\n",
        "    global num_params\n",
        "    epsilon = 0.001\n",
        "    num_params = hidden_layer_size*(n+K+1)\n",
        "    THETA = np.random.rand(num_params)*2*epsilon-epsilon\n",
        "    return THETA"
      ],
      "execution_count": 0,
      "outputs": []
    },
    {
      "cell_type": "markdown",
      "metadata": {
        "id": "PjBpbhw4KAij",
        "colab_type": "text"
      },
      "source": [
        "Implementing forward propagation algorithm."
      ]
    },
    {
      "cell_type": "code",
      "metadata": {
        "id": "7dMEGqpxEL4V",
        "colab_type": "code",
        "colab": {}
      },
      "source": [
        "def forwardprop(X, Theta1, Theta2):\n",
        "    a2 = sigmoid(Theta1@X.T)\n",
        "    a2 = np.vstack((np.ones((1, X.shape[0])), a2))\n",
        "    a3 = sigmoid(Theta2@a2)\n",
        "    return a3.T"
      ],
      "execution_count": 0,
      "outputs": []
    },
    {
      "cell_type": "markdown",
      "metadata": {
        "id": "FbyeEr5lKNVP",
        "colab_type": "text"
      },
      "source": [
        "Calculating cost."
      ]
    },
    {
      "cell_type": "code",
      "metadata": {
        "id": "z_SjTFcAEOTC",
        "colab_type": "code",
        "colab": {}
      },
      "source": [
        "def cost(THETA):\n",
        "    Theta1 = THETA[0 : hidden_layer_size*n].reshape(hidden_layer_size, n)\n",
        "    Theta2 = THETA[hidden_layer_size*n : hidden_layer_size*n + K*(hidden_layer_size+1)].reshape(K, hidden_layer_size+1)\n",
        "    cost = -1/mtrain * sum(sum(np.multiply(Ytrain, np.log(forwardprop(Xtrain, Theta1, Theta2))) + np.multiply(1-Ytrain, np.log(1-forwardprop(Xtrain, Theta1, Theta2)))))\n",
        "    return cost"
      ],
      "execution_count": 0,
      "outputs": []
    },
    {
      "cell_type": "markdown",
      "metadata": {
        "id": "Cbt2KdXdKT9h",
        "colab_type": "text"
      },
      "source": [
        "Implementing backpropagation algorithm (to calculate the gradient of the cost function)."
      ]
    },
    {
      "cell_type": "code",
      "metadata": {
        "id": "ysCbWiD_e9h1",
        "colab_type": "code",
        "colab": {}
      },
      "source": [
        "def gradient(X, Y, THETA, Lambda):\n",
        "  Theta1 = THETA[0 : hidden_layer_size*n].reshape(hidden_layer_size, n)\n",
        "  Theta2 = THETA[hidden_layer_size*n : hidden_layer_size*n + K*(hidden_layer_size+1)].reshape(K, hidden_layer_size+1)\n",
        "  Delta1 = np.zeros((hidden_layer_size, n))\n",
        "  Delta2 = np.zeros((K, hidden_layer_size+1))\n",
        "  for i in range(mtrain):\n",
        "    a1 = X[i,:].reshape(n,1)\n",
        "    a2 = sigmoid(Theta1@a1)\n",
        "    a2 = np.vstack((np.ones((1, 1)), a2))\n",
        "    a3 = sigmoid(Theta2@a2)\n",
        "    delta3 = a3-Y[i,:].reshape(K,1)\n",
        "    delta2 = np.multiply(Theta2.T@delta3, np.multiply(a2, 1-a2))\n",
        "    delta2 = delta2[1:]\n",
        "    Delta1 += delta2@(a1.T)\n",
        "    Delta2 += delta3@a2.T\n",
        "  D1 = 1/m * Delta1\n",
        "  D2 = 1/m * Delta2\n",
        "  return np.concatenate((D1.ravel(),  D2.ravel()))"
      ],
      "execution_count": 0,
      "outputs": []
    },
    {
      "cell_type": "markdown",
      "metadata": {
        "id": "CLDHF9l2Kn9U",
        "colab_type": "text"
      },
      "source": [
        "Implementing batch gradient descent algorithm."
      ]
    },
    {
      "cell_type": "code",
      "metadata": {
        "id": "20ILLg-xdwOX",
        "colab_type": "code",
        "colab": {}
      },
      "source": [
        "def gradient_descent(X, Y, THETA_0, Lambda, Alpha, num_iters, calculate_cost):\n",
        "  global cost_history\n",
        "  THETA = THETA_0\n",
        "  for _ in range(num_iters):\n",
        "    if calculate_cost:\n",
        "      cost_history.append(cost(THETA))\n",
        "    THETA = THETA - Alpha*gradient(X, Y, THETA, Lambda)\n",
        "  return THETA"
      ],
      "execution_count": 0,
      "outputs": []
    },
    {
      "cell_type": "markdown",
      "metadata": {
        "id": "LmgbOAhyLBzI",
        "colab_type": "text"
      },
      "source": [
        "Calculate output layer activations and make predictions."
      ]
    },
    {
      "cell_type": "code",
      "metadata": {
        "id": "0YAfnd7yl2sL",
        "colab_type": "code",
        "colab": {}
      },
      "source": [
        "def makepredictions(Theta1, Theta2):\n",
        "  output_activations = forwardprop(X, Theta1, Theta2)\n",
        "  output = np.zeros((m, K))\n",
        "  for i in range(m):\n",
        "    for j in range(K):\n",
        "      output[i,j] = int(output_activations[i,j]==np.amax(output_activations[i,:]))\n",
        "  return output"
      ],
      "execution_count": 0,
      "outputs": []
    },
    {
      "cell_type": "markdown",
      "metadata": {
        "id": "KNdqcovgLHAw",
        "colab_type": "text"
      },
      "source": [
        "Evaluate prediction accuracies."
      ]
    },
    {
      "cell_type": "code",
      "metadata": {
        "id": "jUPNUqrdpjFG",
        "colab_type": "code",
        "colab": {}
      },
      "source": [
        "def evaluate(Theta1, Theta2, fitted_lambda):\n",
        "  output = makepredictions(Theta1, Theta2)\n",
        "  train_mistakes = 0\n",
        "  cv_mistakes = 0\n",
        "  test_mistakes = 0\n",
        "  for i in range(m):\n",
        "    if (output[i, :] != Y[i, :]).any():\n",
        "      if i in range(mtrain):\n",
        "        train_mistakes += 1\n",
        "      if i in range(mtrain, mtrain+mcv):\n",
        "        cv_mistakes += 1\n",
        "      if i in range(mtrain+mcv, m):\n",
        "        test_mistakes += 1\n",
        "  train_accuracy = 1-train_mistakes/mtrain\n",
        "  cv_accuracy = 1-cv_mistakes/mcv\n",
        "  test_accuracy = 1-test_mistakes/mtest\n",
        "  if fitted_lambda:\n",
        "    print(\"Training set accuracy: \", train_accuracy)\n",
        "    print(\"Cross-validation set accuracy: \", cv_accuracy)\n",
        "    print(\"Test set accuracy: \", test_accuracy)\n",
        "  else:\n",
        "    return cv_accuracy"
      ],
      "execution_count": 0,
      "outputs": []
    },
    {
      "cell_type": "markdown",
      "metadata": {
        "id": "aCwEGoVrLkLF",
        "colab_type": "text"
      },
      "source": [
        "Running the neural network algorithm."
      ]
    },
    {
      "cell_type": "code",
      "metadata": {
        "id": "GJnVvU5FERMY",
        "colab_type": "code",
        "outputId": "a8d04d76-0658-40f4-d96f-4628ab013358",
        "colab": {
          "base_uri": "https://localhost:8080/",
          "height": 69
        }
      },
      "source": [
        "getdata()\n",
        "createsets()\n",
        "hidden_layer_size = 3\n",
        "cost_history = []\n",
        "Lambda = 0\n",
        "Alpha = 0.1\n",
        "num_iters = 5000\n",
        "THETA_0 = thetainit()\n",
        "THETA = gradient_descent(Xtrain, Ytrain, THETA_0, Lambda, Alpha, num_iters, True)\n",
        "Theta1 = THETA[0 : hidden_layer_size*n].reshape(hidden_layer_size, n)\n",
        "Theta2 = THETA[hidden_layer_size*n : hidden_layer_size*n + K*(hidden_layer_size+1)].reshape(K, hidden_layer_size+1)\n",
        "evaluate(Theta1, Theta2, True)"
      ],
      "execution_count": 35,
      "outputs": [
        {
          "output_type": "stream",
          "text": [
            "Training set accuracy:  0.97\n",
            "Cross-validation set accuracy:  1.0\n",
            "Test set accuracy:  1.0\n"
          ],
          "name": "stdout"
        }
      ]
    },
    {
      "cell_type": "code",
      "metadata": {
        "id": "rb0m-TkAkSox",
        "colab_type": "code",
        "outputId": "6a558eb7-4877-4137-83c8-afa36dc881dd",
        "colab": {
          "base_uri": "https://localhost:8080/",
          "height": 283
        }
      },
      "source": [
        "plt.plot(cost_history)"
      ],
      "execution_count": 36,
      "outputs": [
        {
          "output_type": "execute_result",
          "data": {
            "text/plain": [
              "[<matplotlib.lines.Line2D at 0x7f44c0e85e48>]"
            ]
          },
          "metadata": {
            "tags": []
          },
          "execution_count": 36
        },
        {
          "output_type": "display_data",
          "data": {
            "image/png": "[encoded data removed]",
            "text/plain": [
              "<Figure size 432x288 with 1 Axes>"
            ]
          },
          "metadata": {
            "tags": [],
            "needs_background": "light"
          }
        }
      ]
    }
  ]
}