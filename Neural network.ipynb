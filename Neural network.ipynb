{
 "cells": [
  {
   "cell_type": "markdown",
   "metadata": {
    "colab_type": "text",
    "id": "uzcw-XJJIylM"
   },
   "source": [
    "# Neural network"
   ]
  },
  {
   "cell_type": "markdown",
   "metadata": {
    "colab_type": "text",
    "id": "3pwZ8W2YJeui"
   },
   "source": [
    "Importing packages."
   ]
  },
  {
   "cell_type": "code",
   "execution_count": 1,
   "metadata": {
    "colab": {},
    "colab_type": "code",
    "id": "WC_TvGtKDsSj"
   },
   "outputs": [],
   "source": [
    "import pandas as pd\n",
    "import numpy as np\n",
    "import math\n",
    "from scipy.special import expit as sigmoid\n",
    "from scipy import linalg\n",
    "import matplotlib.pyplot as plt"
   ]
  },
  {
   "cell_type": "markdown",
   "metadata": {
    "colab_type": "text",
    "id": "tqEnQLrwJh85"
   },
   "source": [
    "Getting data from irisdata.csv."
   ]
  },
  {
   "cell_type": "code",
   "execution_count": 2,
   "metadata": {
    "colab": {},
    "colab_type": "code",
    "id": "E8sYlxEKD0Xp"
   },
   "outputs": [],
   "source": [
    "def getdata():\n",
    "  global X, Y, m, n, K\n",
    "  K = 3\n",
    "  data = pd.read_csv(\"irisdata.csv\")\n",
    "  X = data[[\"sepal length\", \"sepal width\", \"petal length\", \"petal width\"]].to_numpy()\n",
    "  m = X.shape[0]\n",
    "  X = np.append(np.ones((m,1)), X, axis=1)\n",
    "  Y = np.zeros((m,K))\n",
    "  for i in range(m):\n",
    "    if data[\"type\"][i] == \"Iris-setosa\":\n",
    "      Y[i][0] = 1\n",
    "    if data[\"type\"][i] == \"Iris-versicolor\":\n",
    "      Y[i][1] = 1\n",
    "    if data[\"type\"][i] == \"Iris-virginica\":\n",
    "      Y[i][2] = 1\n",
    "  n = X.shape[1]"
   ]
  },
  {
   "cell_type": "markdown",
   "metadata": {
    "colab_type": "text",
    "id": "oXCTY6goJouM"
   },
   "source": [
    "Creating the training set, cross-validation set and test set. Randomly shuffles the data to get iris types distributed (on average) evenly in the 3 sample sets. This introduces randomness in the output, i.e. I will get different learned parameters and accuracies when running the algorithm multiple times. This randomness can be substantial due to the small sample size."
   ]
  },
  {
   "cell_type": "code",
   "execution_count": 3,
   "metadata": {
    "colab": {},
    "colab_type": "code",
    "id": "Y2IWw4wFEEch"
   },
   "outputs": [],
   "source": [
    "def createsets():\n",
    "    global X, Y, Xtrain, Ytrain, Xcv, Ycv, Xtest, Ytest, m, n, K, mtrain, mcv, mtest\n",
    "    randperm = np.random.permutation(range(m))\n",
    "    X = X[randperm, :]\n",
    "    Y = Y[randperm, :]\n",
    "    [mtrain, mcv] = [math.floor(2/3*m), math.floor(m/6)]\n",
    "    mtest = m-mtrain-mcv\n",
    "    Xtrain = X[0:mtrain, :]\n",
    "    Ytrain = Y[0:mtrain, :]\n",
    "    Xcv = X[mtrain:mtrain+mcv, :]\n",
    "    Ycv = Y[mtrain:mtrain+mcv, :]\n",
    "    Xtest = X[mtrain+mcv:m, :]\n",
    "    Ytest = Y[mtrain+mcv:m, :]"
   ]
  },
  {
   "cell_type": "markdown",
   "metadata": {
    "colab_type": "text",
    "id": "4XaGyqsAJ1MK"
   },
   "source": [
    "Random initialisation of parameters for symmetry breaking."
   ]
  },
  {
   "cell_type": "code",
   "execution_count": 4,
   "metadata": {
    "colab": {},
    "colab_type": "code",
    "id": "ORv5mOZqEGlg"
   },
   "outputs": [],
   "source": [
    "def thetainit():\n",
    "    global num_params\n",
    "    epsilon = 0.001\n",
    "    num_params = hidden_layer_size*(n+K+1)\n",
    "    THETA = np.random.rand(num_params)*2*epsilon-epsilon\n",
    "    return THETA"
   ]
  },
  {
   "cell_type": "markdown",
   "metadata": {
    "colab_type": "text",
    "id": "PjBpbhw4KAij"
   },
   "source": [
    "Implementing forward propagation algorithm."
   ]
  },
  {
   "cell_type": "code",
   "execution_count": 5,
   "metadata": {
    "colab": {},
    "colab_type": "code",
    "id": "7dMEGqpxEL4V"
   },
   "outputs": [],
   "source": [
    "def forwardprop(X, Theta1, Theta2):\n",
    "    a2 = sigmoid(Theta1@X.T)\n",
    "    a2 = np.vstack((np.ones((1, X.shape[0])), a2))\n",
    "    a3 = sigmoid(Theta2@a2)\n",
    "    return a3.T"
   ]
  },
  {
   "cell_type": "markdown",
   "metadata": {
    "colab_type": "text",
    "id": "FbyeEr5lKNVP"
   },
   "source": [
    "Calculating cost."
   ]
  },
  {
   "cell_type": "code",
   "execution_count": 6,
   "metadata": {
    "colab": {},
    "colab_type": "code",
    "id": "z_SjTFcAEOTC"
   },
   "outputs": [],
   "source": [
    "def cost(THETA):\n",
    "    Theta1 = THETA[0 : hidden_layer_size*n].reshape(hidden_layer_size, n)\n",
    "    Theta2 = THETA[hidden_layer_size*n : hidden_layer_size*n + K*(hidden_layer_size+1)].reshape(K, hidden_layer_size+1)\n",
    "    cost = -1/mtrain * sum(sum(np.multiply(Ytrain, np.log(forwardprop(Xtrain, Theta1, Theta2))) + np.multiply(1-Ytrain, np.log(1-forwardprop(Xtrain, Theta1, Theta2)))))\n",
    "    return cost"
   ]
  },
  {
   "cell_type": "markdown",
   "metadata": {
    "colab_type": "text",
    "id": "Cbt2KdXdKT9h"
   },
   "source": [
    "Implementing backpropagation algorithm (to calculate the gradient of the cost function)."
   ]
  },
  {
   "cell_type": "code",
   "execution_count": 7,
   "metadata": {
    "colab": {},
    "colab_type": "code",
    "id": "ysCbWiD_e9h1"
   },
   "outputs": [],
   "source": [
    "def gradient(X, Y, THETA, Lambda):\n",
    "  Theta1 = THETA[0 : hidden_layer_size*n].reshape(hidden_layer_size, n)\n",
    "  Theta2 = THETA[hidden_layer_size*n : hidden_layer_size*n + K*(hidden_layer_size+1)].reshape(K, hidden_layer_size+1)\n",
    "  Delta1 = np.zeros((hidden_layer_size, n))\n",
    "  Delta2 = np.zeros((K, hidden_layer_size+1))\n",
    "  for i in range(mtrain):\n",
    "    a1 = X[i,:].reshape(n,1)\n",
    "    a2 = sigmoid(Theta1@a1)\n",
    "    a2 = np.vstack((np.ones((1, 1)), a2))\n",
    "    a3 = sigmoid(Theta2@a2)\n",
    "    delta3 = a3-Y[i,:].reshape(K,1)\n",
    "    delta2 = np.multiply(Theta2.T@delta3, np.multiply(a2, 1-a2))\n",
    "    delta2 = delta2[1:]\n",
    "    Delta1 += delta2@(a1.T)\n",
    "    Delta2 += delta3@a2.T\n",
    "  D1 = 1/m * Delta1\n",
    "  D2 = 1/m * Delta2\n",
    "  return np.concatenate((D1.ravel(),  D2.ravel()))"
   ]
  },
  {
   "cell_type": "markdown",
   "metadata": {
    "colab_type": "text",
    "id": "CLDHF9l2Kn9U"
   },
   "source": [
    "Implementing batch gradient descent algorithm."
   ]
  },
  {
   "cell_type": "code",
   "execution_count": 8,
   "metadata": {
    "colab": {},
    "colab_type": "code",
    "id": "20ILLg-xdwOX"
   },
   "outputs": [],
   "source": [
    "def gradient_descent(X, Y, THETA_0, Lambda, Alpha, num_iters, calculate_cost):\n",
    "  global cost_history\n",
    "  THETA = THETA_0\n",
    "  for _ in range(num_iters):\n",
    "    if calculate_cost:\n",
    "      cost_history.append(cost(THETA))\n",
    "    THETA = THETA - Alpha*gradient(X, Y, THETA, Lambda)\n",
    "  return THETA"
   ]
  },
  {
   "cell_type": "markdown",
   "metadata": {
    "colab_type": "text",
    "id": "LmgbOAhyLBzI"
   },
   "source": [
    "Calculate output layer activations and make predictions."
   ]
  },
  {
   "cell_type": "code",
   "execution_count": 9,
   "metadata": {
    "colab": {},
    "colab_type": "code",
    "id": "0YAfnd7yl2sL"
   },
   "outputs": [],
   "source": [
    "def makepredictions(Theta1, Theta2):\n",
    "  output_activations = forwardprop(X, Theta1, Theta2)\n",
    "  output = np.zeros((m, K))\n",
    "  for i in range(m):\n",
    "    for j in range(K):\n",
    "      output[i,j] = int(output_activations[i,j]==np.amax(output_activations[i,:]))\n",
    "  return output"
   ]
  },
  {
   "cell_type": "markdown",
   "metadata": {
    "colab_type": "text",
    "id": "KNdqcovgLHAw"
   },
   "source": [
    "Evaluate prediction accuracies."
   ]
  },
  {
   "cell_type": "code",
   "execution_count": 10,
   "metadata": {
    "colab": {},
    "colab_type": "code",
    "id": "jUPNUqrdpjFG"
   },
   "outputs": [],
   "source": [
    "def evaluate(Theta1, Theta2, fitted_lambda):\n",
    "  output = makepredictions(Theta1, Theta2)\n",
    "  train_mistakes = 0\n",
    "  cv_mistakes = 0\n",
    "  test_mistakes = 0\n",
    "  for i in range(m):\n",
    "    if (output[i, :] != Y[i, :]).any():\n",
    "      if i in range(mtrain):\n",
    "        train_mistakes += 1\n",
    "      if i in range(mtrain, mtrain+mcv):\n",
    "        cv_mistakes += 1\n",
    "      if i in range(mtrain+mcv, m):\n",
    "        test_mistakes += 1\n",
    "  train_accuracy = 1-train_mistakes/mtrain\n",
    "  cv_accuracy = 1-cv_mistakes/mcv\n",
    "  test_accuracy = 1-test_mistakes/mtest\n",
    "  if fitted_lambda:\n",
    "    print(\"Training set accuracy: \", train_accuracy)\n",
    "    print(\"Cross-validation set accuracy: \", cv_accuracy)\n",
    "    print(\"Test set accuracy: \", test_accuracy)\n",
    "  else:\n",
    "    return cv_accuracy"
   ]
  },
  {
   "cell_type": "markdown",
   "metadata": {
    "colab_type": "text",
    "id": "aCwEGoVrLkLF"
   },
   "source": [
    "Running the neural network algorithm."
   ]
  },
  {
   "cell_type": "code",
   "execution_count": 11,
   "metadata": {
    "colab": {
     "base_uri": "https://localhost:8080/",
     "height": 69
    },
    "colab_type": "code",
    "id": "GJnVvU5FERMY",
    "outputId": "a8d04d76-0658-40f4-d96f-4628ab013358"
   },
   "outputs": [
    {
     "name": "stdout",
     "output_type": "stream",
     "text": [
      "Training set accuracy:  0.98\n",
      "Cross-validation set accuracy:  0.96\n",
      "Test set accuracy:  0.96\n"
     ]
    }
   ],
   "source": [
    "getdata()\n",
    "createsets()\n",
    "hidden_layer_size = 3\n",
    "cost_history = []\n",
    "Lambda = 0\n",
    "Alpha = 0.1\n",
    "num_iters = 5000\n",
    "THETA_0 = thetainit()\n",
    "THETA = gradient_descent(Xtrain, Ytrain, THETA_0, Lambda, Alpha, num_iters, True)\n",
    "Theta1 = THETA[0 : hidden_layer_size*n].reshape(hidden_layer_size, n)\n",
    "Theta2 = THETA[hidden_layer_size*n : hidden_layer_size*n + K*(hidden_layer_size+1)].reshape(K, hidden_layer_size+1)\n",
    "evaluate(Theta1, Theta2, True)"
   ]
  },
  {
   "cell_type": "code",
   "execution_count": 12,
   "metadata": {
    "colab": {
     "base_uri": "https://localhost:8080/",
     "height": 283
    },
    "colab_type": "code",
    "id": "rb0m-TkAkSox",
    "outputId": "6a558eb7-4877-4137-83c8-afa36dc881dd"
   },
   "outputs": [
    {
     "data": {
      "text/plain": [
       "[<matplotlib.lines.Line2D at 0x1df4813fbc8>]"
      ]
     },
     "execution_count": 12,
     "metadata": {},
     "output_type": "execute_result"
    },
    {
     "data": {
      "image/png": "[encoded data removed]",
      "text/plain": [
       "<Figure size 432x288 with 1 Axes>"
      ]
     },
     "metadata": {
      "needs_background": "light"
     },
     "output_type": "display_data"
    }
   ],
   "source": [
    "plt.plot(cost_history)"
   ]
  }
 ],
 "metadata": {
  "colab": {
   "collapsed_sections": [],
   "name": "Iris - neural network.ipynb",
   "provenance": []
  },
  "kernelspec": {
   "display_name": "Python 3",
   "language": "python",
   "name": "python3"
  },
  "language_info": {
   "codemirror_mode": {
    "name": "ipython",
    "version": 3
   },
   "file_extension": ".py",
   "mimetype": "text/x-python",
   "name": "python",
   "nbconvert_exporter": "python",
   "pygments_lexer": "ipython3",
   "version": "3.7.4"
  }
 },
 "nbformat": 4,
 "nbformat_minor": 1
}
