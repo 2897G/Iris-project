{
  "nbformat": 4,
  "nbformat_minor": 0,
  "metadata": {
    "colab": {
      "name": "Iris - SVM with kernel.ipynb",
      "provenance": []
    },
    "kernelspec": {
      "name": "python3",
      "display_name": "Python 3"
    }
  },
  "cells": [
    {
      "cell_type": "markdown",
      "metadata": {
        "id": "CQEpRkC8zgsD",
        "colab_type": "text"
      },
      "source": [
        "# Support vector machine"
      ]
    },
    {
      "cell_type": "markdown",
      "metadata": {
        "id": "yHVrLEePzmVF",
        "colab_type": "text"
      },
      "source": [
        "Importing packages."
      ]
    },
    {
      "cell_type": "code",
      "metadata": {
        "id": "3G38TZMqFSD9",
        "colab_type": "code",
        "colab": {}
      },
      "source": [
        "import pandas as pd\n",
        "import numpy as np\n",
        "from scipy.optimize import minimize\n",
        "import matplotlib.pyplot as plt"
      ],
      "execution_count": 0,
      "outputs": []
    },
    {
      "cell_type": "markdown",
      "metadata": {
        "id": "nNu4WoFxzrX0",
        "colab_type": "text"
      },
      "source": [
        "Importing data."
      ]
    },
    {
      "cell_type": "code",
      "metadata": {
        "id": "QFEcGFsHFzUO",
        "colab_type": "code",
        "colab": {}
      },
      "source": [
        "def getdata():\n",
        "  global X, Y, m, n, K\n",
        "  K = 3\n",
        "  data = pd.read_csv(\"irisdata.csv\")\n",
        "  X = data[[\"sepal length\", \"sepal width\", \"petal length\", \"petal width\"]].to_numpy()\n",
        "  m = X.shape[0]\n",
        "  X = np.append(np.ones((m,1)), X, axis=1)\n",
        "  Y = np.zeros((m,K))\n",
        "  for i in range(m):\n",
        "    if data[\"type\"][i] == \"Iris-setosa\":\n",
        "      Y[i][0] = 1\n",
        "    if data[\"type\"][i] == \"Iris-versicolor\":\n",
        "      Y[i][1] = 1\n",
        "    if data[\"type\"][i] == \"Iris-virginica\":\n",
        "      Y[i][2] = 1\n",
        "  n = X.shape[1]"
      ],
      "execution_count": 0,
      "outputs": []
    },
    {
      "cell_type": "markdown",
      "metadata": {
        "id": "w5OCtf6jzvZm",
        "colab_type": "text"
      },
      "source": [
        "Performing feature scaling."
      ]
    },
    {
      "cell_type": "code",
      "metadata": {
        "id": "UcUZHqf0NqVU",
        "colab_type": "code",
        "colab": {}
      },
      "source": [
        "def scalefeatures():\n",
        "  global X\n",
        "  means = np.mean(X, axis=0)\n",
        "  stds = np.std(X, axis=0)\n",
        "  for i in range(1, X.shape[1]):\n",
        "    X[:,i] = (X[:,i]-means[i])/stds[i]"
      ],
      "execution_count": 0,
      "outputs": []
    },
    {
      "cell_type": "markdown",
      "metadata": {
        "id": "FYO_fTVi0qfE",
        "colab_type": "text"
      },
      "source": [
        "Creating the training, cross-validation and test sets."
      ]
    },
    {
      "cell_type": "code",
      "metadata": {
        "id": "rrFFyKwgF3fa",
        "colab_type": "code",
        "colab": {}
      },
      "source": [
        "def createsets():\n",
        "    global X, Y, Xtrain, Ytrain, Xcv, Ycv, Xtest, Ytest, mtrain, mcv, mtest\n",
        "    randperm = np.random.permutation(range(m))\n",
        "    X = X[randperm, :]\n",
        "    Y = Y[randperm, :]\n",
        "    [mtrain, mcv] = [2*m//3, m//6]\n",
        "    mtest = m-mtrain-mcv\n",
        "    Xtrain = X[0:mtrain, :]\n",
        "    Ytrain = Y[0:mtrain, :]\n",
        "    Xcv = X[mtrain:mtrain+mcv, :]\n",
        "    Ycv = Y[mtrain:mtrain+mcv, :]\n",
        "    Xtest = X[mtrain+mcv:m, :]\n",
        "    Ytest = Y[mtrain+mcv:m, :]"
      ],
      "execution_count": 0,
      "outputs": []
    },
    {
      "cell_type": "markdown",
      "metadata": {
        "id": "a9ES3kd60uzg",
        "colab_type": "text"
      },
      "source": [
        "Calculate the Gaussian kernel."
      ]
    },
    {
      "cell_type": "code",
      "metadata": {
        "id": "S6oitsB9JwCy",
        "colab_type": "code",
        "colab": {}
      },
      "source": [
        "def kernel(x, y, sigma):\n",
        "  return np.exp(-np.linalg.norm(x-y)**2/sigma)"
      ],
      "execution_count": 0,
      "outputs": []
    },
    {
      "cell_type": "markdown",
      "metadata": {
        "id": "MvaNmqw901fp",
        "colab_type": "text"
      },
      "source": [
        "Making features by creating a landmark at each training example and calculating the kernel for each sample."
      ]
    },
    {
      "cell_type": "code",
      "metadata": {
        "id": "MowdpS3uMYfm",
        "colab_type": "code",
        "colab": {}
      },
      "source": [
        "def makefeatures(X, sigma):\n",
        "  global F, Ftrain, Fcv, Ftest\n",
        "  m = X.shape[0]\n",
        "  F = np.eye(m)\n",
        "  for i in range(m):\n",
        "    for j in range(i):\n",
        "      F[i][j] = kernel(X[i,:], X[j,:], sigma)\n",
        "      F[j][i] = F[i][j]\n",
        "  F = F[:,0:mtrain]\n",
        "  Ftrain = F[0:mtrain, :]\n",
        "  Fcv = F[mtrain:mtrain+mcv, :]\n",
        "  Ftest = F[mtrain+mcv:m, :]"
      ],
      "execution_count": 0,
      "outputs": []
    },
    {
      "cell_type": "markdown",
      "metadata": {
        "id": "FmzGdmxY1rT0",
        "colab_type": "text"
      },
      "source": [
        "Calculating cost."
      ]
    },
    {
      "cell_type": "code",
      "metadata": {
        "id": "IkLZlQz1F6gx",
        "colab_type": "code",
        "colab": {}
      },
      "source": [
        "def cost(Theta, X, y, C):\n",
        "  cost = 0\n",
        "  for i in range(len(y)):\n",
        "    cost += max([0, 1+(-2*y[i]+1)*X[i,:]@Theta])\n",
        "  cost = C*cost + Theta[1:].T@Theta[1:]/2\n",
        "  return cost"
      ],
      "execution_count": 0,
      "outputs": []
    },
    {
      "cell_type": "markdown",
      "metadata": {
        "id": "xSEozNAK1ul6",
        "colab_type": "text"
      },
      "source": [
        "Training the SVM."
      ]
    },
    {
      "cell_type": "code",
      "metadata": {
        "id": "5OB6v4u0SvTv",
        "colab_type": "code",
        "colab": {}
      },
      "source": [
        "def trainSVM(X, Y, C, usekernel):\n",
        "  opt_theta = np.empty((X.shape[1], K))\n",
        "  for i in range(K):\n",
        "    if usekernel:\n",
        "      print(\"Training SVM with kernel for group \", i, ', with C=', C, \".\", sep='')\n",
        "    else:\n",
        "      print(\"Training SVM without kernel for group \", i, ', with C=', C, \".\", sep='')\n",
        "    initial_theta = np.zeros((X.shape[1],1))\n",
        "    result = minimize(cost, initial_theta, args=(X, Y[:,i], C), method='Nelder-Mead', options={'maxiter': 1000000, 'disp': False})\n",
        "    if result.success:\n",
        "      opt_theta[:,i] = result.x\n",
        "    else:\n",
        "      raise ValueError(result.message)\n",
        "  return opt_theta"
      ],
      "execution_count": 0,
      "outputs": []
    },
    {
      "cell_type": "markdown",
      "metadata": {
        "id": "gglQiJV-1yUb",
        "colab_type": "text"
      },
      "source": [
        "Making prediction."
      ]
    },
    {
      "cell_type": "code",
      "metadata": {
        "id": "_uE7EBjGbNVB",
        "colab_type": "code",
        "colab": {}
      },
      "source": [
        "def makepredictions(X, Theta):\n",
        "  output = X@Theta\n",
        "  predictions = np.empty((X.shape[0], K))\n",
        "  for i in range(X.shape[0]):\n",
        "    for j in range(K):\n",
        "      predictions[i,j] = int(output[i,j]==np.amax(output[i,:]))\n",
        "  return predictions"
      ],
      "execution_count": 0,
      "outputs": []
    },
    {
      "cell_type": "markdown",
      "metadata": {
        "id": "Ei9q_fHP13t8",
        "colab_type": "text"
      },
      "source": [
        "Fitting the C hyperparameter. Also fitting sigma would take too much time to run."
      ]
    },
    {
      "cell_type": "code",
      "metadata": {
        "id": "U419OIeeiqMv",
        "colab_type": "code",
        "colab": {}
      },
      "source": [
        "def fithyperparameters(usekernel):\n",
        "  Cset = [0.1, 0.3, 1, 3, 10, 30, 100, 300]\n",
        "  cv_accuracies = []\n",
        "  for C in Cset:\n",
        "    if usekernel:\n",
        "      opt_Theta = trainSVM(Ftrain, Ytrain, C, True)\n",
        "      predictions = makepredictions(Fcv, opt_Theta)\n",
        "      cv_accuracies.append((Ycv.shape[0]-np.sum(np.absolute(predictions-Ycv))/2)/Ycv.shape[0])\n",
        "    else:\n",
        "      opt_Theta = trainSVM(Xtrain, Ytrain, C, False)\n",
        "      predictions = makepredictions(Xcv, opt_Theta)\n",
        "      cv_accuracies.append((Ycv.shape[0]-np.sum(np.absolute(predictions-Ycv))/2)/Ycv.shape[0])\n",
        "  return Cset[cv_accuracies.index(max(cv_accuracies))]"
      ],
      "execution_count": 0,
      "outputs": []
    },
    {
      "cell_type": "markdown",
      "metadata": {
        "id": "UyUzlma9sbIN",
        "colab_type": "text"
      },
      "source": [
        "Print accuracies."
      ]
    },
    {
      "cell_type": "code",
      "metadata": {
        "id": "4HrW7Vf_qXSY",
        "colab_type": "code",
        "colab": {}
      },
      "source": [
        "def calculateaccuracies(predictions):\n",
        "  train_acc = (mtrain+mcv-np.sum(np.absolute(predictions[:mtrain+mcv]-np.vstack((Ytrain,Ycv))))/2) / (mtrain+mcv)\n",
        "  test_acc = (mtest-np.sum(np.absolute(predictions[mtrain+mcv:]-Ytest))/2) / mtest\n",
        "  print(\"Training (and cv) set accuracy:\", train_acc)\n",
        "  print(\"Test set accuracy:\", test_acc)"
      ],
      "execution_count": 0,
      "outputs": []
    },
    {
      "cell_type": "markdown",
      "metadata": {
        "id": "yBmfX2dv2LkJ",
        "colab_type": "text"
      },
      "source": [
        "Running the algorithm."
      ]
    },
    {
      "cell_type": "code",
      "metadata": {
        "id": "elSkkGR1H1gU",
        "colab_type": "code",
        "colab": {
          "base_uri": "https://localhost:8080/",
          "height": 1000
        },
        "outputId": "e046fdf6-171a-4a8a-a70e-444ac07ceeb0"
      },
      "source": [
        "getdata()\n",
        "scalefeatures()\n",
        "createsets()\n",
        "makefeatures(X, sigma=1)\n",
        "C_nokernel = fithyperparameters(usekernel=False)\n",
        "C_kernel = fithyperparameters(usekernel=True)\n",
        "opt_theta_nokernel = trainSVM(np.vstack((Xtrain,Xcv)), Ytrain, C_nokernel, False)\n",
        "opt_theta_kernel = trainSVM(np.vstack((Ftrain,Fcv)), Ytrain, C_kernel, True)\n",
        "predictions_nokernel = makepredictions(X, opt_theta_nokernel)\n",
        "predictions_kernel = makepredictions(F, opt_theta_kernel)\n",
        "print(\"\\nPerformance without kernel:\")\n",
        "calculateaccuracies(predictions_nokernel)\n",
        "print(\"\\nPerfomance with kernel:\")\n",
        "calculateaccuracies(predictions_kernel)"
      ],
      "execution_count": 12,
      "outputs": [
        {
          "output_type": "stream",
          "text": [
            "Training SVM without kernel for group 0, with C=0.1.\n",
            "Training SVM without kernel for group 1, with C=0.1.\n",
            "Training SVM without kernel for group 2, with C=0.1.\n",
            "Training SVM without kernel for group 0, with C=0.3.\n",
            "Training SVM without kernel for group 1, with C=0.3.\n",
            "Training SVM without kernel for group 2, with C=0.3.\n",
            "Training SVM without kernel for group 0, with C=1.\n",
            "Training SVM without kernel for group 1, with C=1.\n",
            "Training SVM without kernel for group 2, with C=1.\n",
            "Training SVM without kernel for group 0, with C=3.\n",
            "Training SVM without kernel for group 1, with C=3.\n",
            "Training SVM without kernel for group 2, with C=3.\n",
            "Training SVM without kernel for group 0, with C=10.\n",
            "Training SVM without kernel for group 1, with C=10.\n",
            "Training SVM without kernel for group 2, with C=10.\n",
            "Training SVM without kernel for group 0, with C=30.\n",
            "Training SVM without kernel for group 1, with C=30.\n",
            "Training SVM without kernel for group 2, with C=30.\n",
            "Training SVM without kernel for group 0, with C=100.\n",
            "Training SVM without kernel for group 1, with C=100.\n",
            "Training SVM without kernel for group 2, with C=100.\n",
            "Training SVM without kernel for group 0, with C=300.\n",
            "Training SVM without kernel for group 1, with C=300.\n",
            "Training SVM without kernel for group 2, with C=300.\n",
            "Training SVM with kernel for group 0, with C=0.1.\n",
            "Training SVM with kernel for group 1, with C=0.1.\n",
            "Training SVM with kernel for group 2, with C=0.1.\n",
            "Training SVM with kernel for group 0, with C=0.3.\n",
            "Training SVM with kernel for group 1, with C=0.3.\n",
            "Training SVM with kernel for group 2, with C=0.3.\n",
            "Training SVM with kernel for group 0, with C=1.\n",
            "Training SVM with kernel for group 1, with C=1.\n",
            "Training SVM with kernel for group 2, with C=1.\n",
            "Training SVM with kernel for group 0, with C=3.\n",
            "Training SVM with kernel for group 1, with C=3.\n",
            "Training SVM with kernel for group 2, with C=3.\n",
            "Training SVM with kernel for group 0, with C=10.\n",
            "Training SVM with kernel for group 1, with C=10.\n",
            "Training SVM with kernel for group 2, with C=10.\n",
            "Training SVM with kernel for group 0, with C=30.\n",
            "Training SVM with kernel for group 1, with C=30.\n",
            "Training SVM with kernel for group 2, with C=30.\n",
            "Training SVM with kernel for group 0, with C=100.\n",
            "Training SVM with kernel for group 1, with C=100.\n",
            "Training SVM with kernel for group 2, with C=100.\n",
            "Training SVM with kernel for group 0, with C=300.\n",
            "Training SVM with kernel for group 1, with C=300.\n",
            "Training SVM with kernel for group 2, with C=300.\n",
            "Training SVM without kernel for group 0, with C=1.\n",
            "Training SVM without kernel for group 1, with C=1.\n",
            "Training SVM without kernel for group 2, with C=1.\n",
            "Training SVM with kernel for group 0, with C=0.1.\n",
            "Training SVM with kernel for group 1, with C=0.1.\n",
            "Training SVM with kernel for group 2, with C=0.1.\n",
            "\n",
            "Performance without kernel:\n",
            "Training (and cv) set accuracy: 0.928\n",
            "Test set accuracy: 0.96\n",
            "\n",
            "Perfomance with kernel:\n",
            "Training (and cv) set accuracy: 0.96\n",
            "Test set accuracy: 0.96\n"
          ],
          "name": "stdout"
        }
      ]
    }
  ]
}